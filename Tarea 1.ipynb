{
 "cells": [
  {
   "cell_type": "code",
   "execution_count": 10,
   "metadata": {},
   "outputs": [
    {
     "name": "stdout",
     "output_type": "stream",
     "text": [
      "mayor: 927\n",
      "promedio: 258.875\n"
     ]
    }
   ],
   "source": [
    "def a (x):\n",
    "    mayor=-1\n",
    "    for i in (x):\n",
    "        if i > mayor:\n",
    "            mayor=i\n",
    "    print('mayor:',mayor)\n",
    "    \n",
    "    suma=0\n",
    "    for n in (x):\n",
    "        suma=suma+n\n",
    "    promedio=suma/len(x)\n",
    "    print('promedio:',promedio)\n",
    "    \n",
    "list=[11,45,65,34,87,97,2,28,64,123,634,927,346,32,823,824]\n",
    "a(list)\n"
   ]
  },
  {
   "cell_type": "code",
   "execution_count": 59,
   "metadata": {
    "scrolled": false
   },
   "outputs": [
    {
     "name": "stdout",
     "output_type": "stream",
     "text": [
      "derecho: AnitaLavalatina\n",
      "al reves: anitalavaLatinA\n"
     ]
    }
   ],
   "source": [
    "def b(x):\n",
    "    \n",
    "    cero=''\n",
    "    for i in (x):\n",
    "        cero=cero+i\n",
    "    print('derecho:',cero)\n",
    "    \n",
    "    z=x.reverse()\n",
    "    \n",
    "    cero=''\n",
    "    for i in (x):\n",
    "        cero=cero+i\n",
    "    print('al reves:',cero)\n",
    "   \n",
    "\n",
    "   \n",
    "    \n",
    "    \n",
    "list=['A','n','i','t','a','L','a','v','a','l','a','t','i','n','a']\n",
    "b(list)\n"
   ]
  },
  {
   "cell_type": "code",
   "execution_count": 58,
   "metadata": {},
   "outputs": [
    {
     "name": "stdout",
     "output_type": "stream",
     "text": [
      "1\n",
      "3\n",
      "5\n",
      "7\n",
      "9\n",
      "\n"
     ]
    }
   ],
   "source": [
    "def c1(x):\n",
    "    \n",
    "    d=1\n",
    "    a=1\n",
    "    \n",
    "    while 2*d-1<x:\n",
    "        a,d= 2*d-1,d+1\n",
    "        print(str(a))\n",
    "    print()\n",
    "  \n",
    "\n",
    "p=10\n",
    "c1(p)\n",
    "    \n"
   ]
  },
  {
   "cell_type": "code",
   "execution_count": 56,
   "metadata": {},
   "outputs": [
    {
     "data": {
      "text/plain": [
       "[1, 3, 5, 7, 9]"
      ]
     },
     "execution_count": 56,
     "metadata": {},
     "output_type": "execute_result"
    }
   ],
   "source": [
    "def c2 (x):\n",
    "    for i in range(1,x):\n",
    "        if(i%2==1):\n",
    "            lista.append(i)\n",
    "    return(lista)\n",
    "lista=[]\n",
    "c2(10)"
   ]
  },
  {
   "cell_type": "code",
   "execution_count": null,
   "metadata": {},
   "outputs": [],
   "source": []
  },
  {
   "cell_type": "code",
   "execution_count": 11,
   "metadata": {},
   "outputs": [
    {
     "name": "stdout",
     "output_type": "stream",
     "text": [
      "['e', 'd', 'c', 't', 'a']\n"
     ]
    }
   ],
   "source": [
    "lista=['a','t','c','d','e']\n",
    "lista.reverse()\n",
    "print (lista)"
   ]
  }
 ],
 "metadata": {
  "kernelspec": {
   "display_name": "Python 3",
   "language": "python",
   "name": "python3"
  },
  "language_info": {
   "codemirror_mode": {
    "name": "ipython",
    "version": 3
   },
   "file_extension": ".py",
   "mimetype": "text/x-python",
   "name": "python",
   "nbconvert_exporter": "python",
   "pygments_lexer": "ipython3",
   "version": "3.6.5"
  }
 },
 "nbformat": 4,
 "nbformat_minor": 2
}
